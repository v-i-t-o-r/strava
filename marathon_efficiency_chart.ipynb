{
  "cells": [
    {
      "cell_type": "markdown",
      "metadata": {
        "id": "view-in-github",
        "colab_type": "text"
      },
      "source": [
        "<a href=\"https://colab.research.google.com/github/v-i-t-o-r/strava/blob/main/marathon_efficiency_chart.ipynb\" target=\"_parent\"><img src=\"https://colab.research.google.com/assets/colab-badge.svg\" alt=\"Open In Colab\"/></a>"
      ]
    },
    {
      "cell_type": "markdown",
      "metadata": {
        "id": "hthFPqR7yPrx"
      },
      "source": [
        "## Generate efficiency chart for marathon runs\n",
        "This notebook follows the discussion on [this twitter thread](https://twitter.com/Dan_Nash94/status/1526182083583954945) and calculates your running efficiency for each split of a marathon race.\n",
        "\n",
        "You need to create a Strava API application in order to use their API. Follow the instructions on this page to create your app: <https://medium.com/@annthurium/getting-started-with-the-strava-api-a-tutorial-f3909496cd2d>\n",
        "\n",
        "After setting up the app, note down the following information (you will need it to run this notebook):\n",
        "- Client id\n",
        "- Client secret\n",
        "\n",
        "**Note:** Strava imposes some request limits (30'000/day, and 600/every 15min). "
      ]
    },
    {
      "cell_type": "markdown",
      "source": [
        ""
      ],
      "metadata": {
        "id": "rPUnMg2FlZed"
      }
    },
    {
      "cell_type": "code",
      "execution_count": null,
      "metadata": {
        "id": "-cQ5p1jByPry"
      },
      "outputs": [],
      "source": [
        "!pip install stravaio folium"
      ]
    },
    {
      "cell_type": "code",
      "execution_count": null,
      "metadata": {
        "id": "H56arbrkyPrz"
      },
      "outputs": [],
      "source": [
        "import os\n",
        "import logging\n",
        "import json\n",
        "import urllib\n",
        "import requests\n",
        "import folium\n",
        "from stravaio import StravaIO"
      ]
    },
    {
      "cell_type": "code",
      "execution_count": null,
      "metadata": {
        "id": "i6RqTCKlyPrz"
      },
      "outputs": [],
      "source": [
        "# Paste your client id and client secret here.\n",
        "STRAVA_CLIENT_ID = \"YOUR_CLIENT_ID\"\n",
        "STRAVA_CLIENT_SECRET = \"YOUR_CLIENT_SECRET\""
      ]
    },
    {
      "cell_type": "markdown",
      "metadata": {
        "id": "t39ujmBnyPrz"
      },
      "source": [
        "### Authorization with Strava\n",
        "The cell below creates the proper authorization link using the Stravaio Python library, which is used later to retrieve activities.\n",
        "It is important to run this cell, just pasting the access_token from your Strava settings will not work, because Stravaio needs to be authorized.\n",
        "\n",
        "- Run the cell below and click the link that is printed, when prompted click \"Authorize\" on the website that opens\n",
        "- After you click \"Authorize\" you see something like, \"This site can't be reached\"\n",
        "- Stay on that page and look at the URL\n",
        "- The URL will show the authorization code (the bit after \"code=\" in the URL) and scope you accepted\n",
        "- Copy the code and paste it below and continue the notebook execution\n",
        "\n",
        "More detailed info can be found here:\n",
        "- <https://developers.strava.com/docs/getting-started/>\n",
        "- <https://developers.strava.com/docs/authentication/>"
      ]
    },
    {
      "cell_type": "code",
      "execution_count": null,
      "metadata": {
        "id": "43u5zvgwyPr0",
        "colab": {
          "base_uri": "https://localhost:8080/"
        },
        "outputId": "d6c31b34-dd69-4246-f309-cb807b0b4aba"
      },
      "outputs": [
        {
          "output_type": "stream",
          "name": "stdout",
          "text": [
            "https://www.strava.com/oauth/authorize?client_id=6055&response_type=code&redirect_uri=http%3A%2F%2Flocalhost%3A8000%2Fauthorization_successful&scope=read%2Cprofile%3Aread_all%2Cactivity%3Aread&state=https%3A%2F%2Fgithub.com%2Fsladkovm%2Fstrava-http&approval_prompt=force\n"
          ]
        }
      ],
      "source": [
        "params_oauth = {\n",
        "    \"client_id\": STRAVA_CLIENT_ID,\n",
        "    \"response_type\": \"code\",\n",
        "    \"redirect_uri\": f\"http://localhost:8000/authorization_successful\",\n",
        "    \"scope\": \"read,profile:read_all,activity:read\",\n",
        "    \"state\": 'https://github.com/sladkovm/strava-http', # Sladkovm is the author of the Stravaio library\n",
        "    \"approval_prompt\": \"force\"\n",
        "}\n",
        "values_url = urllib.parse.urlencode(params_oauth)\n",
        "base_url = 'https://www.strava.com/oauth/authorize'\n",
        "authorize_url = base_url + '?' + values_url\n",
        "print(authorize_url)"
      ]
    },
    {
      "cell_type": "code",
      "execution_count": null,
      "metadata": {
        "id": "gAvzCIBAyPr0"
      },
      "outputs": [],
      "source": [
        "# Paste the code from the URL here. Afterwards there are no manual steps anymore.\n",
        "AUTHORIZATION_CODE = \"YOUR_AUTH_CODE\""
      ]
    },
    {
      "cell_type": "code",
      "source": [
        "# List of marathon races you want to run efficiency analysis on.\n",
        "# MARATHONS = {\n",
        "#     'NAME_1': STRAVA_ID_1,\n",
        "#     'NAME_2': STRAVA_ID_2,\n",
        "#     'NAME...': STRAVA_ID...\n",
        "# }\n"
      ],
      "metadata": {
        "id": "_3mRkzS4S2P3"
      },
      "execution_count": null,
      "outputs": []
    },
    {
      "cell_type": "markdown",
      "metadata": {
        "id": "GUqmhpbtyPr1"
      },
      "source": [
        "The following cell retrieves an access token using the authorization code. That access token can then be used to retrieve Strava data."
      ]
    },
    {
      "cell_type": "code",
      "execution_count": null,
      "metadata": {
        "id": "zbMxQ4v2yPr1"
      },
      "outputs": [],
      "source": [
        "payload = {\n",
        "    \"client_id\": STRAVA_CLIENT_ID,\n",
        "    \"client_secret\": STRAVA_CLIENT_SECRET,\n",
        "    \"grant_type\": \"authorization_code\",\n",
        "    \"code\": AUTHORIZATION_CODE,\n",
        "}\n",
        "\n",
        "response = requests.request(\n",
        "    \"POST\", \"https://www.strava.com/api/v3/oauth/token\", data=payload\n",
        ")\n",
        "\n",
        "response = json.loads(response.text)\n",
        "TOKEN = response[\"access_token\"]\n",
        "client = StravaIO(access_token=TOKEN)"
      ]
    },
    {
      "cell_type": "code",
      "source": [
        "MILE_IN_METERS = 1609.34\n",
        "\n",
        "def compute_marathon_efficiency_splits(strava_activity_id):\n",
        "  m_activity = client.activities_api.get_activity_by_id(strava_activity_id)\n",
        "  m_hr_stream = client.streams_api.get_activity_streams(strava_activity_id, ['heartrate'], key_by_type=False)\n",
        "\n",
        "  # Strava API doesn't provide AVG HR for each split, so do a rough computation:\n",
        "  # Get all HR datapoints, check how often (distance) a new datapoint is saved, \n",
        "  # compute avg for windows of 1609 metres.\n",
        "  # Note: this could be improved by looking at the actual measured distance for\n",
        "  # each stream data point and cross that with split distances.\n",
        "  n_samples_per_split = (m_hr_stream.heartrate.original_size / m_activity.distance) * MILE_IN_METERS\n",
        "  hr_splits = {}\n",
        "  for i in range(1,27):\n",
        "    start = int(i*n_samples_per_split)\n",
        "    end = int((i+1)*n_samples_per_split)\n",
        "    hr_data = m_hr_stream.heartrate.data[start:end]\n",
        "    hr_splits[i] = (sum(hr_data) / len(hr_data))\n",
        "\n",
        "  # Get elapsed time for each split, so we can compute total number of beats per\n",
        "  # split.\n",
        "  # Note: split distance is actually not 1609 most times, so minor precision\n",
        "  # improvements can be achieved by using split.distance instead of constant\n",
        "  # MILE_IN_METERS\n",
        "  splits_elapsed = {}\n",
        "  for split in m_activity.splits_standard:\n",
        "    splits_elapsed[split.split] = split.elapsed_time\n",
        "\n",
        "  # Compute marathon efficiency splits, aka, meters per beat\n",
        "  efficiency_splits = {split: MILE_IN_METERS / (avg_hr / 60 * splits_elapsed[split]) for (split, avg_hr) in hr_splits.items()}\n",
        "  return efficiency_splits\n"
      ],
      "metadata": {
        "id": "uU14TzTtPzAu"
      },
      "execution_count": null,
      "outputs": []
    },
    {
      "cell_type": "code",
      "source": [
        "marathon_efficiency_splits = {m_name : compute_marathon_efficiency_splits(strava_activity_id) for (m_name, strava_activity_id) in MARATHONS.items()}"
      ],
      "metadata": {
        "id": "qev7S-F0bO3I"
      },
      "execution_count": null,
      "outputs": []
    },
    {
      "cell_type": "code",
      "source": [
        "# Render the efficiency chart\n",
        "import matplotlib.pylab as plt\n",
        "\n",
        "for (mname, ef_splits) in marathon_efficiency_splits.items():\n",
        "  lists = sorted(ef_splits.items()) # sorted by key, return a list of tuples\n",
        "\n",
        "  x, y = zip(*lists) # unpack a list of pairs into two tuples\n",
        "\n",
        "  plt.plot(x, y, label=mname)\n",
        "plt.legend()  \n",
        "plt.rcParams['figure.figsize'] = [100, 10]\n",
        "plt.show()"
      ],
      "metadata": {
        "id": "utvyASuUSjbb"
      },
      "execution_count": null,
      "outputs": []
    }
  ],
  "metadata": {
    "kernelspec": {
      "display_name": "Python 3",
      "language": "python",
      "name": "python3"
    },
    "language_info": {
      "codemirror_mode": {
        "name": "ipython",
        "version": 3
      },
      "file_extension": ".py",
      "mimetype": "text/x-python",
      "name": "python",
      "nbconvert_exporter": "python",
      "pygments_lexer": "ipython3",
      "version": "3.6.8"
    },
    "colab": {
      "name": "marathon_efficiency_chart.ipynb",
      "provenance": [],
      "collapsed_sections": [],
      "include_colab_link": true
    }
  },
  "nbformat": 4,
  "nbformat_minor": 0
}